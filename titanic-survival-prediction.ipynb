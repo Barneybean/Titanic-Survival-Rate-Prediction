{
 "cells": [
  {
   "cell_type": "code",
   "execution_count": null,
   "metadata": {
    "_cell_guid": "b1076dfc-b9ad-4769-8c92-a6c4dae69d19",
    "_uuid": "8f2839f25d086af736a60e9eeb907d3b93b6e0e5"
   },
   "outputs": [],
   "source": [
    "# import libraries\n",
    "import numpy as np # linear algebra\n",
    "import pandas as pd # data processing, CSV file I/O (e.g. pd.read_csv)\n",
    "import random\n",
    "import matplotlib.pyplot as plt\n",
    "import seaborn as sns\n",
    "#machine learning models \n",
    "from sklearn.ensemble import RandomForestClassifier\n"
   ]
  },
  {
   "cell_type": "code",
   "execution_count": null,
   "metadata": {
    "_cell_guid": "79c7e3d0-c299-4dcb-8224-4455121ee9b0",
    "_uuid": "d629ff2d2480ee46fbb7e2d37f6b5fab8052498a"
   },
   "outputs": [],
   "source": [
    "# obtain data\n",
    "train = pd.read_csv(\"../input/train.csv\")\n",
    "test = pd.read_csv(\"../input/test.csv\")\n",
    "compare = pd.read_csv(\"../input/gender_submission.csv\")"
   ]
  },
  {
   "cell_type": "code",
   "execution_count": null,
   "metadata": {
    "_uuid": "00914ce547f632c42a0e24e456657c89f502eb73"
   },
   "outputs": [],
   "source": [
    "#to display all columns\n",
    "pd.set_option('display.max_columns', None)\n",
    "train.head()"
   ]
  },
  {
   "cell_type": "markdown",
   "metadata": {
    "_uuid": "6cb04dcb81c9676f80448797bf760c33d7d42d88"
   },
   "source": [
    "**Understanding Dataset**"
   ]
  },
  {
   "cell_type": "code",
   "execution_count": null,
   "metadata": {
    "_uuid": "0119dcd7204d4c5b07a9044ae44498f9c453ba79"
   },
   "outputs": [],
   "source": [
    "#summarize data \n",
    "train.info()\n",
    "print(\"-----------\")\n",
    "test.info()\n",
    "print(\"-----------\")\n",
    "train.describe()"
   ]
  },
  {
   "cell_type": "code",
   "execution_count": null,
   "metadata": {
    "_uuid": "dd0db7129bb4e3e394cdf72983640157aff4af63"
   },
   "outputs": [],
   "source": [
    "#PassengerId, Name, Ticket are not likely affect the survival rate, therefore, drop\n",
    "# Cabin has too many missing values (204 out of 891) has value, drop \n",
    "train = train.drop([\"PassengerId\",\"Name\",\"Ticket\",\"Cabin\"], axis=1)\n",
    "test_id = test['PassengerId']\n",
    "test = test.drop([\"PassengerId\",\"Name\",\"Ticket\",\"Cabin\"], axis=1)\n",
    "\n",
    "train.head()\n"
   ]
  },
  {
   "cell_type": "markdown",
   "metadata": {
    "_uuid": "5b683588f8265c0cae540c9dceb8f815b3f85b3e"
   },
   "source": [
    "**Analyzing  and modifying dataset**"
   ]
  },
  {
   "cell_type": "code",
   "execution_count": null,
   "metadata": {
    "_uuid": "261b56f32b14136a52d2dd7a8ebd7730409d00b2"
   },
   "outputs": [],
   "source": [
    "#Embarked Analysis \n",
    "fig, (axis1,axis2,axis3) = plt.subplots(1,3,figsize=(16,5)) #set grid for sns plot\n",
    "sns.barplot('Embarked','Survived', data=train, ax=axis1).set_title('Embarked Distribute') #number of passengers from different Embarkment\n",
    "sns.countplot(x='Survived', hue=\"Embarked\", data=train, order=[1,0], ax=axis2).set_title('Survival Count-Embarked') #survival count by Embarkment\n",
    "\n",
    "survival_rate_embarked = train[[\"Embarked\", \"Survived\"]].groupby([\"Embarked\"],as_index=False).mean() #get survival rate\n",
    "sns.barplot(x='Embarked', y='Survived', data=survival_rate_embarked, order=['S','C','Q'], ax=axis3).set_title('Survival Rate-Embarked')\n",
    "#Here we can clearly see Embarked is a factor that affects the survival rate and passengers from Cherbourg has higher survival rate\n",
    "\n",
    "# further dev: create two dummy variables for each port since there are 3 levels"
   ]
  },
  {
   "cell_type": "code",
   "execution_count": null,
   "metadata": {
    "_uuid": "9b38165aa4a635894e4d73288a499f16741d3fc9"
   },
   "outputs": [],
   "source": [
    "#Embarked - Adjust for ML\n",
    "#The port in which a passenger has embarked. C - Cherbourg, S - Southampton, Q = Queenstown\n",
    "#revalue embarked into 1 - Cherbourg, 2 - Southampton, 3 = Queenstown\n",
    "train[\"Embarked\"] = train[\"Embarked\"].replace([\"C\",\"S\",\"Q\"], [1,2,3])\n",
    "train[\"Embarked\"].head()\n",
    "\n",
    "#make sdjustment to test data too \n",
    "test[\"Embarked\"] = test[\"Embarked\"].replace([\"C\",\"S\",\"Q\"], [1,2,3])\n"
   ]
  },
  {
   "cell_type": "code",
   "execution_count": null,
   "metadata": {
    "_uuid": "308d4a1b2b9e1b74879c2be10ca7b45cacb26d03"
   },
   "outputs": [],
   "source": [
    "#Fare \n",
    "fig, (axis1,axis2) = plt.subplots(1,2,figsize=(16,10)) #set grid for sns plot\n",
    "sns.distplot(train[\"Fare\"], ax=axis1) #distribution of fares\n",
    "sns.boxplot(x=train[\"Survived\"], y=train[\"Fare\"], data=train, ax=axis2)\n",
    "#from the plots we can infer the fare price has influence in survival rate, survivers are who paid higher fare in general"
   ]
  },
  {
   "cell_type": "code",
   "execution_count": null,
   "metadata": {
    "_uuid": "efb569bcc036c01b34b240416327233722ece077"
   },
   "outputs": [],
   "source": [
    "#Age\n",
    "fig, (axis1,axis2) = plt.subplots(1,2,figsize=(15,5))\n",
    "sns.distplot(train[\"Age\"].dropna(), ax=axis1).set_title(\"Age Distribution\")\n",
    "\n",
    "#seperate kids from adults (Age<18) and elder (Age>60)\n",
    "df_age = pd.DataFrame(index=range(len(train)), columns=[\"Survived\",\"Age\",\"Adulthood\"])\n",
    "df_age[[\"Survived\",\"Age\"]] = train[[\"Survived\",\"Age\"]]\n",
    "df_age.loc[df_age['Age'] <18, 'Adulthood'] = 'Child'\n",
    "df_age.loc[ (df_age['Age'] >= 18) & (df_age['Age'] < 60), 'Adulthood'] = 'Adult'\n",
    "df_age.loc[ df_age['Age'] >= 60, 'Adulthood'] = 'Elder'\n",
    "#aggregate\n",
    "Adulthood = df_age[[\"Adulthood\", \"Survived\"]].groupby([\"Adulthood\"],as_index=False).mean() #get survival rate\n",
    "sns.barplot(x=Adulthood[\"Adulthood\"], y=Adulthood[\"Survived\"], data=Adulthood, ax=axis2).set_title(\"Survival Rate By Adulthood\")\n",
    "#Cleary, Children has higher survival rate then adult than elders"
   ]
  },
  {
   "cell_type": "code",
   "execution_count": null,
   "metadata": {
    "_uuid": "7bc901d0f71f3bb8124c5cb3d03c329f0ed1ddeb"
   },
   "outputs": [],
   "source": [
    "#Sex Analysis\n",
    "fig, (axis1,axis2) = plt.subplots(1,2,figsize=(15,5))\n",
    "sns.countplot(x='Survived', hue=\"Sex\", data=train, order=[1,0], ax=axis1).set_title('Survival Count-Sex')\n",
    "sex = train[[\"Survived\",\"Sex\"]].groupby(train[\"Sex\"], as_index=False).mean()\n",
    "sns.barplot(x=[\"Female\", \"Male\"], y=sex[\"Survived\"], data= sex).set_title('Survival Rate-Sex')\n",
    "\n",
    "#Female has higher survival rate"
   ]
  },
  {
   "cell_type": "code",
   "execution_count": null,
   "metadata": {
    "_uuid": "a8bac01298a3a6040fdf524864f159fd83ecfc50"
   },
   "outputs": [],
   "source": [
    "# Sex adjust for Machine Learning\n",
    "#convert male to 0 and female to 1\n",
    "train[\"Sex\"] = train[\"Sex\"].replace([\"male\", \"female\"], [0,1])\n",
    "test[\"Sex\"] = test[\"Sex\"].replace([\"male\", \"female\"], [0,1])"
   ]
  },
  {
   "cell_type": "code",
   "execution_count": null,
   "metadata": {
    "_uuid": "f22686ded7c7b3eacddd49d3cb235056f61a0179"
   },
   "outputs": [],
   "source": [
    "#Parch and SibSp Analysis\n",
    "#My hypothesis is passengers with parents or child will have low survival rate because they tend to save the child(s) and parents\n",
    "#While male passengers with spouse or siblings might have lower survival rate. Lets see\n",
    "\n",
    "#convert data. Has parent(s) or child(s) = 1, has no parent(s) or child(s) = 0\n",
    "fig, (axis1,axis2,axis3) = plt.subplots(1,3,figsize=(15,5))\n",
    "train['Parch'].loc[(train['Parch']>0)] = 1\n",
    "parch = train[[\"Survived\",\"Parch\"]].groupby(train[\"Parch\"], as_index=False).mean()\n",
    "sns.barplot(x=parch[\"Parch\"], y=parch[\"Survived\"], data=parch, ax=axis1).set_title(\"Survival Rate By Parch\")\n",
    "\n",
    "#convert data. Has spouse or siblings = 1, has no spouse or siblings = 0\n",
    "train['SibSp'].loc[(train['SibSp']>0)] = 1\n",
    "sibsp = train[[\"Survived\",\"SibSp\"]].groupby(train[\"SibSp\"], as_index=False).mean()\n",
    "sns.barplot(x=sibsp[\"SibSp\"], y=sibsp[\"Survived\"], data=sibsp, ax=axis2).set_title(\"Survival Rate By SibSp\")\n",
    "\n",
    "# the SibSo and Parch behaved very similarly\n",
    "# now lets take a look at male vs Female in SibSp \n",
    "sibspsex = pd.DataFrame(train.groupby([\"Sex\", \"SibSp\"], as_index=False)[\"Survived\"].agg(\"mean\"))\n",
    "#convert int to string to concat\n",
    "sibspsex[\"Sex\"] = sibspsex[\"Sex\"].astype(str)\n",
    "sibspsex[\"SibSp\"] = sibspsex[\"SibSp\"].astype(str)\n",
    "sibspsex[\"Sibspsex\"] = sibspsex[[\"Sex\", \"SibSp\"]].apply(lambda x: \"\".join(x), axis=1)\n",
    "sns.barplot(x=sibspsex[\"Sibspsex\"], y=sibspsex[\"Survived\"], data=sibspsex, ax=axis3).set_title(\"Survival Rate - Sex and SibSp\")\n",
    "#Female's survival rate is the still higher than male's \n",
    "#For males: those who has sibling(s) or spouse have higher survival rate\n",
    "#For Female: those who has sibling(s) or spouse have lowe survival rate\n",
    "# with above conclusion, I want to infer females had sacrificed their life to save spouse's life given the sociaety at that time is male dominant"
   ]
  },
  {
   "cell_type": "code",
   "execution_count": null,
   "metadata": {
    "_uuid": "268e6fe7da2bc671e4233291765cd90c13fa6c49"
   },
   "outputs": [],
   "source": [
    "sibspsex = pd.DataFrame(train.groupby([\"Sex\", \"SibSp\"], as_index=False)[\"Survived\"].agg(\"mean\"))\n",
    "#convert int to string to concat\n",
    "sibspsex[\"Sex\"] = sibspsex[\"Sex\"].astype(str)\n",
    "sibspsex[\"SibSp\"] = sibspsex[\"SibSp\"].astype(str)\n",
    "sibspsex[\"sibspsex\"] = sibspsex[[\"Sex\", \"SibSp\"]].apply(lambda x: \"\".join(x), axis=1)\n",
    "sibspsex"
   ]
  },
  {
   "cell_type": "code",
   "execution_count": null,
   "metadata": {
    "_uuid": "44d8175a1d793a957f77f706bed293bedb473e33"
   },
   "outputs": [],
   "source": [
    "train.head()"
   ]
  },
  {
   "cell_type": "code",
   "execution_count": null,
   "metadata": {
    "_uuid": "494cb623ba9f77f5c2271ddd3500710a7ed23097"
   },
   "outputs": [],
   "source": [
    "test.head()"
   ]
  },
  {
   "cell_type": "markdown",
   "metadata": {
    "_uuid": "45ac6a8d5e7fc75298e392511ec96365817e55b1"
   },
   "source": [
    "**Remove NA and prep for ML**"
   ]
  },
  {
   "cell_type": "code",
   "execution_count": null,
   "metadata": {
    "_uuid": "3040520a049844e787f14a96b23013e113ad01d8"
   },
   "outputs": [],
   "source": [
    "#Fill NaNs in Embarked column with random port\n",
    "ports = list(train[\"Embarked\"].drop_duplicates().dropna())\n",
    "print(ports)\n",
    "train[\"Embarked\"] = train[\"Embarked\"].fillna(ports[random.randint(0,2)])\n",
    "#Fill NaNs in Age column with random number from 1 to 80\n",
    "train[\"Age\"] = train[\"Age\"].fillna(random.randint(1,80))\n",
    "train[\"Age\"].isnull().values.any()\n",
    "\n",
    "#verify there is no na in the train df\n",
    "print(f\"Is there any missing value in train data frame? {train.isnull().values.any()}\")\n",
    "\n",
    "#fill na in test data as well\n",
    "test[\"Embarked\"] = test[\"Embarked\"].fillna(ports[random.randint(0,2)])\n",
    "test[\"Age\"] = test[\"Age\"].fillna(test[\"Age\"].fillna(random.randint(1,80)))\n",
    "test[\"Fare\"] = test[\"Fare\"].fillna(test[\"Fare\"].median())\n",
    "print(f\"Is there any missing value in test data frame? {test.isnull().values.any()}\")\n"
   ]
  },
  {
   "cell_type": "code",
   "execution_count": null,
   "metadata": {
    "_uuid": "237a98c6bdfa6821337c1a7e5f7361c2bcbb5880"
   },
   "outputs": [],
   "source": [
    "# define training and testing data sets\n",
    "Y_train = train[\"Survived\"]\n",
    "X_train = train.drop(\"Survived\",axis=1)\n",
    "X_test  = test"
   ]
  },
  {
   "cell_type": "markdown",
   "metadata": {
    "_uuid": "dededd5c7519a46c960ffeb21c4b7e727da7b238"
   },
   "source": [
    "**Machine Learning **"
   ]
  },
  {
   "cell_type": "code",
   "execution_count": null,
   "metadata": {
    "_uuid": "05b7218996e5ff0aec6976895407bfb8aac5c59b"
   },
   "outputs": [],
   "source": [
    "# Random Forests\n",
    "\n",
    "random_forest = RandomForestClassifier(n_estimators=100)\n",
    "\n",
    "random_forest.fit(X_train, Y_train)\n",
    "\n",
    "Y_pred = random_forest.predict(X_test)\n",
    "\n",
    "random_forest.score(X_train, Y_train)"
   ]
  },
  {
   "cell_type": "code",
   "execution_count": null,
   "metadata": {
    "_uuid": "7c1a749557910565281db27a4c8fc19402dd3592"
   },
   "outputs": [],
   "source": [
    "Y_pred"
   ]
  },
  {
   "cell_type": "code",
   "execution_count": null,
   "metadata": {
    "_uuid": "20180b6e983e37f3bc6b24f948e19b4a9f314ad1"
   },
   "outputs": [],
   "source": [
    "submission = pd.DataFrame({\n",
    "        \"PassengerId\": test_id,\n",
    "        \"Survived\": Y_pred\n",
    "    })\n",
    "submission.to_csv('titanic_prediction_submission.csv', index=False)"
   ]
  },
  {
   "cell_type": "markdown",
   "metadata": {
    "_uuid": "2c11ed3ba8abeb92d356993271a1acdbce672926"
   },
   "source": [
    "**Bench Marking**"
   ]
  },
  {
   "cell_type": "code",
   "execution_count": null,
   "metadata": {
    "_uuid": "16dcc5758473a9faf87f7dc0a0cc717033a5ac91"
   },
   "outputs": [],
   "source": [
    "from sklearn.metrics import accuracy_score\n",
    "accuracy_score(compare[\"Survived\"], Y_pred)"
   ]
  },
  {
   "cell_type": "markdown",
   "metadata": {
    "_uuid": "6e26ec07d79522e24a714fab199173d3e1f4a55c"
   },
   "source": [
    "**Or**"
   ]
  },
  {
   "cell_type": "code",
   "execution_count": null,
   "metadata": {
    "_uuid": "a8a84c721838758ece795bfe723767cd2fff776a"
   },
   "outputs": [],
   "source": [
    "submission.head()"
   ]
  },
  {
   "cell_type": "code",
   "execution_count": null,
   "metadata": {
    "_uuid": "543e10ec56c64d8bbb909038a2210caaa118b183"
   },
   "outputs": [],
   "source": [
    "#combine predicted result to actual result for benchmarking \n",
    "submission = submission.rename(columns={\"Survived\": \"Survived_pred\"})\n",
    "result = pd.concat([compare, submission[\"Survived_pred\"]], axis=1)\n",
    "result.head()"
   ]
  },
  {
   "cell_type": "code",
   "execution_count": null,
   "metadata": {
    "_uuid": "99f3e441d3be2e476146481cc03404327c1c9352"
   },
   "outputs": [],
   "source": [
    "result.loc[(result[\"Survived\"] == result[\"Survived_pred\"]), \"Benchmark\"] = 1\n",
    "result.loc[(result[\"Survived\"] != result[\"Survived_pred\"]), \"Benchmark\"] = 0"
   ]
  },
  {
   "cell_type": "code",
   "execution_count": null,
   "metadata": {
    "_uuid": "a8347aa344b510c9769a277927d238ed11a6dcc9",
    "scrolled": true
   },
   "outputs": [],
   "source": [
    "accuracy = (result['Benchmark'].sum())/len(result)\n",
    "accuracy"
   ]
  },
  {
   "cell_type": "code",
   "execution_count": null,
   "metadata": {
    "_uuid": "a41f80ef31006959636d9c4fe455b68fff9407ee"
   },
   "outputs": [],
   "source": []
  },
  {
   "cell_type": "code",
   "execution_count": null,
   "metadata": {
    "_uuid": "4aa3a2962f1a18fb6ba92bea850c883037d1f133"
   },
   "outputs": [],
   "source": []
  },
  {
   "cell_type": "code",
   "execution_count": null,
   "metadata": {
    "_uuid": "865a34a1e23d860de3b556e0888a4932029454b9"
   },
   "outputs": [],
   "source": []
  },
  {
   "cell_type": "code",
   "execution_count": null,
   "metadata": {
    "_uuid": "620af3da47d1fb4bb5a728595c5771d191e4f514"
   },
   "outputs": [],
   "source": []
  },
  {
   "cell_type": "code",
   "execution_count": null,
   "metadata": {
    "_uuid": "b7781baa71838ebf1bdc3849917919cb4e9fe20f"
   },
   "outputs": [],
   "source": []
  },
  {
   "cell_type": "code",
   "execution_count": null,
   "metadata": {
    "_uuid": "9b17bfbe4acc888abc735eb114555b35d16f64d7"
   },
   "outputs": [],
   "source": []
  }
 ],
 "metadata": {
  "kernelspec": {
   "display_name": "Python 3",
   "language": "python",
   "name": "python3"
  },
  "language_info": {
   "codemirror_mode": {
    "name": "ipython",
    "version": 3
   },
   "file_extension": ".py",
   "mimetype": "text/x-python",
   "name": "python",
   "nbconvert_exporter": "python",
   "pygments_lexer": "ipython3",
   "version": "3.6.8"
  }
 },
 "nbformat": 4,
 "nbformat_minor": 1
}
